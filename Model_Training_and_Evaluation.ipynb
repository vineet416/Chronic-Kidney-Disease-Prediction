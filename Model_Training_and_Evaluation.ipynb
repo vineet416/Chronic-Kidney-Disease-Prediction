{
 "cells": [
  {
   "cell_type": "code",
   "execution_count": 1,
   "metadata": {},
   "outputs": [],
   "source": [
    "# import all required libraries\n",
    "\n",
    "import pandas as pd\n",
    "import numpy as np\n",
    "\n",
    "import warnings\n",
    "warnings.filterwarnings('ignore')\n",
    "\n",
    "from sklearn.linear_model import LogisticRegression\n",
    "from sklearn.tree import DecisionTreeClassifier\n",
    "from sklearn.svm import SVC\n",
    "from sklearn.naive_bayes import GaussianNB\n",
    "from sklearn.ensemble import RandomForestClassifier\n",
    "from sklearn.ensemble import AdaBoostClassifier\n",
    "from sklearn.ensemble import GradientBoostingClassifier\n",
    "from xgboost import XGBClassifier"
   ]
  },
  {
   "cell_type": "code",
   "execution_count": 2,
   "metadata": {},
   "outputs": [],
   "source": [
    "# Load dataset\n",
    "\n",
    "X_train = pd.read_csv(\"X_train.csv\")\n",
    "X_test = pd.read_csv(\"X_test.csv\")\n",
    "y_train = pd.read_csv(\"y_train.csv\")\n",
    "y_test = pd.read_csv(\"y_test.csv\")"
   ]
  },
  {
   "cell_type": "code",
   "execution_count": 3,
   "metadata": {},
   "outputs": [
    {
     "data": {
      "text/html": [
       "<div>\n",
       "<style scoped>\n",
       "    .dataframe tbody tr th:only-of-type {\n",
       "        vertical-align: middle;\n",
       "    }\n",
       "\n",
       "    .dataframe tbody tr th {\n",
       "        vertical-align: top;\n",
       "    }\n",
       "\n",
       "    .dataframe thead th {\n",
       "        text-align: right;\n",
       "    }\n",
       "</style>\n",
       "<table border=\"1\" class=\"dataframe\">\n",
       "  <thead>\n",
       "    <tr style=\"text-align: right;\">\n",
       "      <th></th>\n",
       "      <th>0</th>\n",
       "      <th>1</th>\n",
       "      <th>2</th>\n",
       "      <th>3</th>\n",
       "      <th>4</th>\n",
       "      <th>5</th>\n",
       "      <th>6</th>\n",
       "      <th>7</th>\n",
       "      <th>8</th>\n",
       "      <th>9</th>\n",
       "      <th>10</th>\n",
       "      <th>11</th>\n",
       "      <th>12</th>\n",
       "      <th>13</th>\n",
       "      <th>14</th>\n",
       "      <th>15</th>\n",
       "    </tr>\n",
       "  </thead>\n",
       "  <tbody>\n",
       "    <tr>\n",
       "      <th>0</th>\n",
       "      <td>1.513322</td>\n",
       "      <td>1.534503</td>\n",
       "      <td>-1.961756</td>\n",
       "      <td>2.808717</td>\n",
       "      <td>-0.244137</td>\n",
       "      <td>2.079253</td>\n",
       "      <td>0.649463</td>\n",
       "      <td>0.430845</td>\n",
       "      <td>-0.551920</td>\n",
       "      <td>-0.519743</td>\n",
       "      <td>1.308382</td>\n",
       "      <td>1.362770</td>\n",
       "      <td>3.294215</td>\n",
       "      <td>1.791794</td>\n",
       "      <td>-0.490214</td>\n",
       "      <td>-0.425220</td>\n",
       "    </tr>\n",
       "    <tr>\n",
       "      <th>1</th>\n",
       "      <td>-0.725182</td>\n",
       "      <td>-0.391148</td>\n",
       "      <td>0.509748</td>\n",
       "      <td>-0.356034</td>\n",
       "      <td>-0.244137</td>\n",
       "      <td>-0.319736</td>\n",
       "      <td>-0.303513</td>\n",
       "      <td>-0.291913</td>\n",
       "      <td>-0.072944</td>\n",
       "      <td>-0.135460</td>\n",
       "      <td>-0.764303</td>\n",
       "      <td>-0.733799</td>\n",
       "      <td>-0.303562</td>\n",
       "      <td>1.791794</td>\n",
       "      <td>-0.490214</td>\n",
       "      <td>2.351725</td>\n",
       "    </tr>\n",
       "    <tr>\n",
       "      <th>2</th>\n",
       "      <td>-0.725182</td>\n",
       "      <td>-0.391148</td>\n",
       "      <td>0.509748</td>\n",
       "      <td>-0.356034</td>\n",
       "      <td>-0.244137</td>\n",
       "      <td>-0.237012</td>\n",
       "      <td>-0.184391</td>\n",
       "      <td>-0.426380</td>\n",
       "      <td>-0.360330</td>\n",
       "      <td>1.017391</td>\n",
       "      <td>-0.764303</td>\n",
       "      <td>-0.733799</td>\n",
       "      <td>-0.303562</td>\n",
       "      <td>-0.558100</td>\n",
       "      <td>-0.490214</td>\n",
       "      <td>-0.425220</td>\n",
       "    </tr>\n",
       "    <tr>\n",
       "      <th>3</th>\n",
       "      <td>-0.725182</td>\n",
       "      <td>-0.391148</td>\n",
       "      <td>0.509748</td>\n",
       "      <td>-0.356034</td>\n",
       "      <td>-0.244137</td>\n",
       "      <td>-0.636844</td>\n",
       "      <td>0.570048</td>\n",
       "      <td>0.262761</td>\n",
       "      <td>-0.392262</td>\n",
       "      <td>-0.135460</td>\n",
       "      <td>1.308382</td>\n",
       "      <td>1.362770</td>\n",
       "      <td>3.294215</td>\n",
       "      <td>1.791794</td>\n",
       "      <td>2.039924</td>\n",
       "      <td>-0.425220</td>\n",
       "    </tr>\n",
       "    <tr>\n",
       "      <th>4</th>\n",
       "      <td>0.767154</td>\n",
       "      <td>1.534503</td>\n",
       "      <td>0.509748</td>\n",
       "      <td>-0.356034</td>\n",
       "      <td>4.096069</td>\n",
       "      <td>1.872444</td>\n",
       "      <td>-0.442488</td>\n",
       "      <td>0.027445</td>\n",
       "      <td>-0.360330</td>\n",
       "      <td>0.556250</td>\n",
       "      <td>1.308382</td>\n",
       "      <td>-0.733799</td>\n",
       "      <td>3.294215</td>\n",
       "      <td>-0.558100</td>\n",
       "      <td>-0.490214</td>\n",
       "      <td>-0.425220</td>\n",
       "    </tr>\n",
       "  </tbody>\n",
       "</table>\n",
       "</div>"
      ],
      "text/plain": [
       "          0         1         2         3         4         5         6  \\\n",
       "0  1.513322  1.534503 -1.961756  2.808717 -0.244137  2.079253  0.649463   \n",
       "1 -0.725182 -0.391148  0.509748 -0.356034 -0.244137 -0.319736 -0.303513   \n",
       "2 -0.725182 -0.391148  0.509748 -0.356034 -0.244137 -0.237012 -0.184391   \n",
       "3 -0.725182 -0.391148  0.509748 -0.356034 -0.244137 -0.636844  0.570048   \n",
       "4  0.767154  1.534503  0.509748 -0.356034  4.096069  1.872444 -0.442488   \n",
       "\n",
       "          7         8         9        10        11        12        13  \\\n",
       "0  0.430845 -0.551920 -0.519743  1.308382  1.362770  3.294215  1.791794   \n",
       "1 -0.291913 -0.072944 -0.135460 -0.764303 -0.733799 -0.303562  1.791794   \n",
       "2 -0.426380 -0.360330  1.017391 -0.764303 -0.733799 -0.303562 -0.558100   \n",
       "3  0.262761 -0.392262 -0.135460  1.308382  1.362770  3.294215  1.791794   \n",
       "4  0.027445 -0.360330  0.556250  1.308382 -0.733799  3.294215 -0.558100   \n",
       "\n",
       "         14        15  \n",
       "0 -0.490214 -0.425220  \n",
       "1 -0.490214  2.351725  \n",
       "2 -0.490214 -0.425220  \n",
       "3  2.039924 -0.425220  \n",
       "4 -0.490214 -0.425220  "
      ]
     },
     "execution_count": 3,
     "metadata": {},
     "output_type": "execute_result"
    }
   ],
   "source": [
    "X_train.head(5)"
   ]
  },
  {
   "cell_type": "code",
   "execution_count": 4,
   "metadata": {},
   "outputs": [
    {
     "data": {
      "text/html": [
       "<div>\n",
       "<style scoped>\n",
       "    .dataframe tbody tr th:only-of-type {\n",
       "        vertical-align: middle;\n",
       "    }\n",
       "\n",
       "    .dataframe tbody tr th {\n",
       "        vertical-align: top;\n",
       "    }\n",
       "\n",
       "    .dataframe thead th {\n",
       "        text-align: right;\n",
       "    }\n",
       "</style>\n",
       "<table border=\"1\" class=\"dataframe\">\n",
       "  <thead>\n",
       "    <tr style=\"text-align: right;\">\n",
       "      <th></th>\n",
       "      <th>0</th>\n",
       "      <th>1</th>\n",
       "      <th>2</th>\n",
       "      <th>3</th>\n",
       "      <th>4</th>\n",
       "      <th>5</th>\n",
       "      <th>6</th>\n",
       "      <th>7</th>\n",
       "      <th>8</th>\n",
       "      <th>9</th>\n",
       "      <th>10</th>\n",
       "      <th>11</th>\n",
       "      <th>12</th>\n",
       "      <th>13</th>\n",
       "      <th>14</th>\n",
       "      <th>15</th>\n",
       "    </tr>\n",
       "  </thead>\n",
       "  <tbody>\n",
       "    <tr>\n",
       "      <th>0</th>\n",
       "      <td>-0.725182</td>\n",
       "      <td>-0.391148</td>\n",
       "      <td>0.509748</td>\n",
       "      <td>-0.356034</td>\n",
       "      <td>-0.244137</td>\n",
       "      <td>-0.416247</td>\n",
       "      <td>-0.144683</td>\n",
       "      <td>-0.342338</td>\n",
       "      <td>0.086715</td>\n",
       "      <td>-0.442887</td>\n",
       "      <td>-0.764303</td>\n",
       "      <td>-0.733799</td>\n",
       "      <td>-0.303562</td>\n",
       "      <td>-0.558100</td>\n",
       "      <td>-0.490214</td>\n",
       "      <td>-0.42522</td>\n",
       "    </tr>\n",
       "    <tr>\n",
       "      <th>1</th>\n",
       "      <td>-0.725182</td>\n",
       "      <td>-0.391148</td>\n",
       "      <td>0.509748</td>\n",
       "      <td>-0.356034</td>\n",
       "      <td>-0.244137</td>\n",
       "      <td>2.258488</td>\n",
       "      <td>-0.422635</td>\n",
       "      <td>-0.090213</td>\n",
       "      <td>-0.104876</td>\n",
       "      <td>-0.135460</td>\n",
       "      <td>1.308382</td>\n",
       "      <td>1.362770</td>\n",
       "      <td>-0.303562</td>\n",
       "      <td>1.791794</td>\n",
       "      <td>-0.490214</td>\n",
       "      <td>-0.42522</td>\n",
       "    </tr>\n",
       "    <tr>\n",
       "      <th>2</th>\n",
       "      <td>-0.725182</td>\n",
       "      <td>-0.391148</td>\n",
       "      <td>0.509748</td>\n",
       "      <td>-0.356034</td>\n",
       "      <td>-0.244137</td>\n",
       "      <td>-0.181863</td>\n",
       "      <td>-0.561610</td>\n",
       "      <td>-0.409572</td>\n",
       "      <td>0.086715</td>\n",
       "      <td>0.095110</td>\n",
       "      <td>-0.764303</td>\n",
       "      <td>-0.733799</td>\n",
       "      <td>-0.303562</td>\n",
       "      <td>-0.558100</td>\n",
       "      <td>-0.490214</td>\n",
       "      <td>-0.42522</td>\n",
       "    </tr>\n",
       "    <tr>\n",
       "      <th>3</th>\n",
       "      <td>-0.725182</td>\n",
       "      <td>-0.391148</td>\n",
       "      <td>0.509748</td>\n",
       "      <td>-0.356034</td>\n",
       "      <td>-0.244137</td>\n",
       "      <td>-0.774717</td>\n",
       "      <td>-0.303513</td>\n",
       "      <td>-0.426380</td>\n",
       "      <td>-0.360330</td>\n",
       "      <td>-0.519743</td>\n",
       "      <td>-0.764303</td>\n",
       "      <td>-0.733799</td>\n",
       "      <td>-0.303562</td>\n",
       "      <td>-0.558100</td>\n",
       "      <td>-0.490214</td>\n",
       "      <td>-0.42522</td>\n",
       "    </tr>\n",
       "    <tr>\n",
       "      <th>4</th>\n",
       "      <td>0.020986</td>\n",
       "      <td>1.534503</td>\n",
       "      <td>0.509748</td>\n",
       "      <td>-0.356034</td>\n",
       "      <td>-0.244137</td>\n",
       "      <td>2.272276</td>\n",
       "      <td>1.106097</td>\n",
       "      <td>-0.022980</td>\n",
       "      <td>-0.679648</td>\n",
       "      <td>1.709101</td>\n",
       "      <td>-0.764303</td>\n",
       "      <td>-0.733799</td>\n",
       "      <td>-0.303562</td>\n",
       "      <td>-0.558100</td>\n",
       "      <td>-0.490214</td>\n",
       "      <td>-0.42522</td>\n",
       "    </tr>\n",
       "  </tbody>\n",
       "</table>\n",
       "</div>"
      ],
      "text/plain": [
       "          0         1         2         3         4         5         6  \\\n",
       "0 -0.725182 -0.391148  0.509748 -0.356034 -0.244137 -0.416247 -0.144683   \n",
       "1 -0.725182 -0.391148  0.509748 -0.356034 -0.244137  2.258488 -0.422635   \n",
       "2 -0.725182 -0.391148  0.509748 -0.356034 -0.244137 -0.181863 -0.561610   \n",
       "3 -0.725182 -0.391148  0.509748 -0.356034 -0.244137 -0.774717 -0.303513   \n",
       "4  0.020986  1.534503  0.509748 -0.356034 -0.244137  2.272276  1.106097   \n",
       "\n",
       "          7         8         9        10        11        12        13  \\\n",
       "0 -0.342338  0.086715 -0.442887 -0.764303 -0.733799 -0.303562 -0.558100   \n",
       "1 -0.090213 -0.104876 -0.135460  1.308382  1.362770 -0.303562  1.791794   \n",
       "2 -0.409572  0.086715  0.095110 -0.764303 -0.733799 -0.303562 -0.558100   \n",
       "3 -0.426380 -0.360330 -0.519743 -0.764303 -0.733799 -0.303562 -0.558100   \n",
       "4 -0.022980 -0.679648  1.709101 -0.764303 -0.733799 -0.303562 -0.558100   \n",
       "\n",
       "         14       15  \n",
       "0 -0.490214 -0.42522  \n",
       "1 -0.490214 -0.42522  \n",
       "2 -0.490214 -0.42522  \n",
       "3 -0.490214 -0.42522  \n",
       "4 -0.490214 -0.42522  "
      ]
     },
     "execution_count": 4,
     "metadata": {},
     "output_type": "execute_result"
    }
   ],
   "source": [
    "X_test.head(5)"
   ]
  },
  {
   "cell_type": "code",
   "execution_count": 5,
   "metadata": {},
   "outputs": [
    {
     "data": {
      "text/html": [
       "<div>\n",
       "<style scoped>\n",
       "    .dataframe tbody tr th:only-of-type {\n",
       "        vertical-align: middle;\n",
       "    }\n",
       "\n",
       "    .dataframe tbody tr th {\n",
       "        vertical-align: top;\n",
       "    }\n",
       "\n",
       "    .dataframe thead th {\n",
       "        text-align: right;\n",
       "    }\n",
       "</style>\n",
       "<table border=\"1\" class=\"dataframe\">\n",
       "  <thead>\n",
       "    <tr style=\"text-align: right;\">\n",
       "      <th></th>\n",
       "      <th>class</th>\n",
       "    </tr>\n",
       "  </thead>\n",
       "  <tbody>\n",
       "    <tr>\n",
       "      <th>0</th>\n",
       "      <td>0</td>\n",
       "    </tr>\n",
       "    <tr>\n",
       "      <th>1</th>\n",
       "      <td>0</td>\n",
       "    </tr>\n",
       "    <tr>\n",
       "      <th>2</th>\n",
       "      <td>1</td>\n",
       "    </tr>\n",
       "    <tr>\n",
       "      <th>3</th>\n",
       "      <td>0</td>\n",
       "    </tr>\n",
       "    <tr>\n",
       "      <th>4</th>\n",
       "      <td>0</td>\n",
       "    </tr>\n",
       "  </tbody>\n",
       "</table>\n",
       "</div>"
      ],
      "text/plain": [
       "   class\n",
       "0      0\n",
       "1      0\n",
       "2      1\n",
       "3      0\n",
       "4      0"
      ]
     },
     "execution_count": 5,
     "metadata": {},
     "output_type": "execute_result"
    }
   ],
   "source": [
    "y_train.head(5)"
   ]
  },
  {
   "cell_type": "code",
   "execution_count": 6,
   "metadata": {},
   "outputs": [
    {
     "data": {
      "text/html": [
       "<div>\n",
       "<style scoped>\n",
       "    .dataframe tbody tr th:only-of-type {\n",
       "        vertical-align: middle;\n",
       "    }\n",
       "\n",
       "    .dataframe tbody tr th {\n",
       "        vertical-align: top;\n",
       "    }\n",
       "\n",
       "    .dataframe thead th {\n",
       "        text-align: right;\n",
       "    }\n",
       "</style>\n",
       "<table border=\"1\" class=\"dataframe\">\n",
       "  <thead>\n",
       "    <tr style=\"text-align: right;\">\n",
       "      <th></th>\n",
       "      <th>class</th>\n",
       "    </tr>\n",
       "  </thead>\n",
       "  <tbody>\n",
       "    <tr>\n",
       "      <th>0</th>\n",
       "      <td>1</td>\n",
       "    </tr>\n",
       "    <tr>\n",
       "      <th>1</th>\n",
       "      <td>0</td>\n",
       "    </tr>\n",
       "    <tr>\n",
       "      <th>2</th>\n",
       "      <td>1</td>\n",
       "    </tr>\n",
       "    <tr>\n",
       "      <th>3</th>\n",
       "      <td>1</td>\n",
       "    </tr>\n",
       "    <tr>\n",
       "      <th>4</th>\n",
       "      <td>0</td>\n",
       "    </tr>\n",
       "  </tbody>\n",
       "</table>\n",
       "</div>"
      ],
      "text/plain": [
       "   class\n",
       "0      1\n",
       "1      0\n",
       "2      1\n",
       "3      1\n",
       "4      0"
      ]
     },
     "execution_count": 6,
     "metadata": {},
     "output_type": "execute_result"
    }
   ],
   "source": [
    "y_test.head(5)"
   ]
  },
  {
   "cell_type": "code",
   "execution_count": 7,
   "metadata": {},
   "outputs": [
    {
     "data": {
      "text/plain": [
       "((320, 16), (80, 16), (320, 1), (80, 1))"
      ]
     },
     "execution_count": 7,
     "metadata": {},
     "output_type": "execute_result"
    }
   ],
   "source": [
    "X_train.shape, X_test.shape, y_train.shape, y_test.shape"
   ]
  },
  {
   "cell_type": "markdown",
   "metadata": {},
   "source": [
    "# Building Basic Model"
   ]
  },
  {
   "cell_type": "code",
   "execution_count": 8,
   "metadata": {},
   "outputs": [],
   "source": [
    "models = {'Logistic Regression': LogisticRegression(n_jobs=-1),\n",
    "          'DT classifier': DecisionTreeClassifier(),\n",
    "          'Support Vector Classifier': SVC(),\n",
    "          'Naive Bayes': GaussianNB(),\n",
    "          'Random Forest Classifier': RandomForestClassifier(n_jobs=-1),\n",
    "          'AdaBoost Classifier': AdaBoostClassifier(),\n",
    "          'Gradient Boosting Classifier': GradientBoostingClassifier(),\n",
    "          'XG Boost Classifier': XGBClassifier(n_jobs=-1)}"
   ]
  },
  {
   "cell_type": "code",
   "execution_count": 9,
   "metadata": {},
   "outputs": [],
   "source": [
    "from sklearn.metrics import accuracy_score\n",
    "def model_train_eval(X_train,y_train, X_test,y_test, models):\n",
    "    evaluation = {}\n",
    "    for i in range(len(models)):\n",
    "        model = list(models.values())[i]\n",
    "        model.fit(X_train,y_train)\n",
    "        y_pred = model.predict(X_test)\n",
    "        model_score = accuracy_score(y_test,y_pred)\n",
    "        evaluation[list(models.keys())[i]] = model_score\n",
    "    return evaluation"
   ]
  },
  {
   "cell_type": "code",
   "execution_count": 10,
   "metadata": {},
   "outputs": [
    {
     "data": {
      "text/plain": [
       "{'Logistic Regression': 0.9,\n",
       " 'DT classifier': 0.9375,\n",
       " 'Support Vector Classifier': 0.9125,\n",
       " 'Naive Bayes': 0.95,\n",
       " 'Random Forest Classifier': 0.9625,\n",
       " 'AdaBoost Classifier': 0.9625,\n",
       " 'Gradient Boosting Classifier': 0.9625,\n",
       " 'XG Boost Classifier': 0.9875}"
      ]
     },
     "execution_count": 10,
     "metadata": {},
     "output_type": "execute_result"
    }
   ],
   "source": [
    "model_train_eval(X_train,y_train, X_test,y_test, models)"
   ]
  },
  {
   "cell_type": "markdown",
   "metadata": {},
   "source": [
    "we are giving good accuracy but the data can be some overfitting "
   ]
  },
  {
   "cell_type": "markdown",
   "metadata": {},
   "source": [
    "# Hyperparameter Tuning"
   ]
  },
  {
   "cell_type": "markdown",
   "metadata": {},
   "source": [
    "## Logistic Regression"
   ]
  },
  {
   "cell_type": "code",
   "execution_count": 11,
   "metadata": {},
   "outputs": [
    {
     "name": "stdout",
     "output_type": "stream",
     "text": [
      "Accuracy: 0.9625\n",
      "              precision    recall  f1-score   support\n",
      "\n",
      "           0       1.00      0.94      0.97        47\n",
      "           1       0.92      1.00      0.96        33\n",
      "\n",
      "    accuracy                           0.96        80\n",
      "   macro avg       0.96      0.97      0.96        80\n",
      "weighted avg       0.97      0.96      0.96        80\n",
      "\n",
      "[[44  3]\n",
      " [ 0 33]]\n"
     ]
    }
   ],
   "source": [
    "from sklearn.model_selection import GridSearchCV\n",
    "from sklearn. metrics import confusion_matrix, accuracy_score, classification_report\n",
    "\n",
    "params = {\n",
    "    'penalty': ('l1', 'l2', 'elasticnet', None),\n",
    "    'C': [1,2,10,20,30,40]\n",
    "}\n",
    "\n",
    "Logistic_Regression = LogisticRegression()\n",
    "log_clf = GridSearchCV(Logistic_Regression, param_grid= params, cv = 5, n_jobs=-1)\n",
    "log_clf.fit(X_train,y_train)\n",
    "best_log_clf = log_clf.best_estimator_\n",
    "y_pred_logistic = best_log_clf.predict(X_test)\n",
    "\n",
    "log_clf_acc = accuracy_score(y_test, y_pred_logistic)\n",
    "\n",
    "print(f\"Accuracy: {log_clf_acc}\")\n",
    "print(classification_report(y_test, y_pred_logistic))\n",
    "print(confusion_matrix(y_test, y_pred_logistic))"
   ]
  },
  {
   "cell_type": "markdown",
   "metadata": {},
   "source": [
    "## Decision Tree Classifier"
   ]
  },
  {
   "cell_type": "code",
   "execution_count": 12,
   "metadata": {},
   "outputs": [
    {
     "name": "stdout",
     "output_type": "stream",
     "text": [
      "Accuracy: 0.9375\n",
      "              precision    recall  f1-score   support\n",
      "\n",
      "           0       0.98      0.91      0.95        47\n",
      "           1       0.89      0.97      0.93        33\n",
      "\n",
      "    accuracy                           0.94        80\n",
      "   macro avg       0.93      0.94      0.94        80\n",
      "weighted avg       0.94      0.94      0.94        80\n",
      "\n",
      "[[43  4]\n",
      " [ 1 32]]\n"
     ]
    }
   ],
   "source": [
    "from sklearn.tree import DecisionTreeClassifier\n",
    "\n",
    "# PrePruning using hyperparameter tuning\n",
    "\n",
    "params = {\n",
    "    'criterion': ['gini', 'entropy', 'log_loss'],\n",
    "    'splitter': ['best','random'],\n",
    "    'max_depth': [1,2,3,4,5,6],\n",
    "    'max_features': ['sqrt', 'log2', 'auto']\n",
    "}\n",
    "\n",
    "DT_Classifier = DecisionTreeClassifier()\n",
    "DT_clf = GridSearchCV(DT_Classifier, param_grid=params, cv =5, scoring='accuracy', n_jobs=-1)\n",
    "DT_clf.fit(X_train,y_train)\n",
    "best_DTC = DT_clf.best_estimator_\n",
    "y_pred_DTC = best_DTC.predict(X_test)\n",
    "\n",
    "DT_clf_acc = accuracy_score(y_test, y_pred_DTC)\n",
    "\n",
    "print(f\"Accuracy: {DT_clf_acc}\")\n",
    "print(classification_report(y_test, y_pred_DTC))\n",
    "print(confusion_matrix(y_test, y_pred_DTC))"
   ]
  },
  {
   "cell_type": "markdown",
   "metadata": {},
   "source": [
    "## SVM Classifier"
   ]
  },
  {
   "cell_type": "code",
   "execution_count": 13,
   "metadata": {},
   "outputs": [
    {
     "name": "stdout",
     "output_type": "stream",
     "text": [
      "Fitting 5 folds for each of 10 candidates, totalling 50 fits\n",
      "Accuracy: 0.975\n",
      "              precision    recall  f1-score   support\n",
      "\n",
      "           0       1.00      0.96      0.98        47\n",
      "           1       0.94      1.00      0.97        33\n",
      "\n",
      "    accuracy                           0.97        80\n",
      "   macro avg       0.97      0.98      0.97        80\n",
      "weighted avg       0.98      0.97      0.98        80\n",
      "\n",
      "[[45  2]\n",
      " [ 0 33]]\n"
     ]
    }
   ],
   "source": [
    "from sklearn.svm import SVC\n",
    "from sklearn.model_selection import RandomizedSearchCV\n",
    "\n",
    "params = {'C': [0.1, 0.2, 1, 2, 3, 10, 50, 100],\n",
    "         'gamma': [1, 0.1, 0.2, 0.001, 0.003],\n",
    "         'kernel': [ 'rbf']}\n",
    "\n",
    "svm_classifier = SVC()\n",
    "svc = RandomizedSearchCV(svm_classifier, param_distributions=params, cv = 5, verbose = 3, scoring='accuracy', n_jobs=-1)\n",
    "svc.fit(X_train, y_train)\n",
    "best_svc = svc.best_estimator_\n",
    "y_pred_svc = best_svc.predict(X_test)\n",
    "\n",
    "svm_classifier_acc = accuracy_score(y_test, y_pred_svc)\n",
    "\n",
    "print(f\"Accuracy: {svm_classifier_acc}\")\n",
    "print(classification_report(y_test, y_pred_svc))\n",
    "print(confusion_matrix(y_test, y_pred_svc))"
   ]
  },
  {
   "cell_type": "markdown",
   "metadata": {},
   "source": [
    "## Gaussian Naive Bayes"
   ]
  },
  {
   "cell_type": "code",
   "execution_count": 14,
   "metadata": {},
   "outputs": [
    {
     "name": "stdout",
     "output_type": "stream",
     "text": [
      "Accuracy: 0.95\n",
      "              precision    recall  f1-score   support\n",
      "\n",
      "           0       1.00      0.91      0.96        47\n",
      "           1       0.89      1.00      0.94        33\n",
      "\n",
      "    accuracy                           0.95        80\n",
      "   macro avg       0.95      0.96      0.95        80\n",
      "weighted avg       0.96      0.95      0.95        80\n",
      "\n",
      "[[43  4]\n",
      " [ 0 33]]\n"
     ]
    }
   ],
   "source": [
    "from sklearn.naive_bayes import GaussianNB\n",
    "\n",
    "params ={\n",
    "    \"var_smoothing\": [1e-9, 1e-8, 1e-7, 1e-6, 1e-5, 1e-4, 1e-3, 1e-2, 1e-1]\n",
    "}\n",
    "\n",
    "gaussian_nb = GaussianNB()\n",
    "gnb = GridSearchCV(gaussian_nb, param_grid=params, cv=5)\n",
    "gnb.fit(X_train, y_train)\n",
    "best_gnb = gnb.best_estimator_\n",
    "y_pred_gnb = best_gnb.predict(X_test)\n",
    "\n",
    "gnb_acc = accuracy_score(y_test, y_pred_gnb)\n",
    "\n",
    "print(f\"Accuracy: {gnb_acc}\")\n",
    "print(classification_report(y_test, y_pred_gnb))\n",
    "print(confusion_matrix(y_test, y_pred_gnb))"
   ]
  },
  {
   "cell_type": "markdown",
   "metadata": {},
   "source": [
    "## Random Forest Classifier"
   ]
  },
  {
   "cell_type": "code",
   "execution_count": 15,
   "metadata": {},
   "outputs": [
    {
     "name": "stdout",
     "output_type": "stream",
     "text": [
      "Out-of-Bag Score:  0.95625\n",
      "Accuracy: 0.975\n",
      "              precision    recall  f1-score   support\n",
      "\n",
      "           0       1.00      0.96      0.98        47\n",
      "           1       0.94      1.00      0.97        33\n",
      "\n",
      "    accuracy                           0.97        80\n",
      "   macro avg       0.97      0.98      0.97        80\n",
      "weighted avg       0.98      0.97      0.98        80\n",
      "\n",
      "[[45  2]\n",
      " [ 0 33]]\n"
     ]
    }
   ],
   "source": [
    "from sklearn.ensemble import RandomForestClassifier\n",
    "\n",
    "params = {\n",
    "    'max_depth': [1,2,3,4,5,6,7,None],\n",
    "    'n_estimators': [50,100,200,300],\n",
    "    'criterion': ['gini', 'entropy']\n",
    "}\n",
    "\n",
    "RandomForest_Classifier = RandomForestClassifier(oob_score=True, n_jobs=-1)\n",
    "rfc = GridSearchCV(RandomForest_Classifier, param_grid=params, cv=5)\n",
    "rfc.fit(X_train, y_train)\n",
    "best_rfc = rfc.best_estimator_\n",
    "y_pred_rfc = best_rfc.predict(X_test)\n",
    "\n",
    "rfc_acc = accuracy_score(y_test, y_pred_rfc)\n",
    "\n",
    "print(\"Out-of-Bag Score: \", best_rfc.oob_score_)\n",
    "print(f\"Accuracy: {rfc_acc}\")\n",
    "print(classification_report(y_test, y_pred_rfc))\n",
    "print(confusion_matrix(y_test, y_pred_rfc))"
   ]
  },
  {
   "cell_type": "markdown",
   "metadata": {},
   "source": [
    "## AdaBoost Classifier"
   ]
  },
  {
   "cell_type": "code",
   "execution_count": 16,
   "metadata": {},
   "outputs": [
    {
     "name": "stdout",
     "output_type": "stream",
     "text": [
      "Fitting 5 folds for each of 30 candidates, totalling 150 fits\n"
     ]
    },
    {
     "name": "stdout",
     "output_type": "stream",
     "text": [
      "Accuracy: 0.975\n",
      "              precision    recall  f1-score   support\n",
      "\n",
      "           0       1.00      0.96      0.98        47\n",
      "           1       0.94      1.00      0.97        33\n",
      "\n",
      "    accuracy                           0.97        80\n",
      "   macro avg       0.97      0.98      0.97        80\n",
      "weighted avg       0.98      0.97      0.98        80\n",
      "\n",
      "[[45  2]\n",
      " [ 0 33]]\n"
     ]
    }
   ],
   "source": [
    "from sklearn.ensemble import AdaBoostClassifier\n",
    "\n",
    "params = {\n",
    "    'n_estimators': [50,100,200],\n",
    "    'learning_rate': [0.01,0.1,1.0,1.5,2.0],\n",
    "    'algorithm': ['SAMME', 'SAMME.R']\n",
    "}\n",
    "\n",
    "AdaBoost_Classifier = AdaBoostClassifier()\n",
    "adaboost = GridSearchCV(estimator= AdaBoost_Classifier, param_grid= params, cv=5, verbose= 3, n_jobs= -1)\n",
    "adaboost.fit(X_train,y_train)\n",
    "best_adaboost = adaboost.best_estimator_\n",
    "y_pred_adaboost = best_adaboost.predict(X_test)\n",
    "\n",
    "adaboost_acc = accuracy_score(y_test, y_pred_adaboost)\n",
    "\n",
    "print(f\"Accuracy: {adaboost_acc}\")\n",
    "print(classification_report(y_test, y_pred_adaboost))\n",
    "print(confusion_matrix(y_test, y_pred_adaboost))"
   ]
  },
  {
   "cell_type": "markdown",
   "metadata": {},
   "source": [
    "## Gradient Boosting Classifier"
   ]
  },
  {
   "cell_type": "code",
   "execution_count": 17,
   "metadata": {},
   "outputs": [
    {
     "name": "stdout",
     "output_type": "stream",
     "text": [
      "Fitting 5 folds for each of 10 candidates, totalling 50 fits\n",
      "[CV 1/5] END learning_rate=0.01, max_depth=4, min_samples_leaf=2, min_samples_split=10, n_estimators=100, subsample=1.0;, score=0.938 total time=   0.2s\n",
      "[CV 2/5] END learning_rate=0.01, max_depth=4, min_samples_leaf=2, min_samples_split=10, n_estimators=100, subsample=1.0;, score=0.953 total time=   0.2s\n",
      "[CV 3/5] END learning_rate=0.01, max_depth=4, min_samples_leaf=2, min_samples_split=10, n_estimators=100, subsample=1.0;, score=0.969 total time=   0.2s\n",
      "[CV 4/5] END learning_rate=0.01, max_depth=4, min_samples_leaf=2, min_samples_split=10, n_estimators=100, subsample=1.0;, score=0.969 total time=   0.2s\n",
      "[CV 5/5] END learning_rate=0.01, max_depth=4, min_samples_leaf=2, min_samples_split=10, n_estimators=100, subsample=1.0;, score=0.969 total time=   0.2s\n",
      "[CV 1/5] END learning_rate=0.05, max_depth=5, min_samples_leaf=2, min_samples_split=10, n_estimators=100, subsample=0.8;, score=0.938 total time=   0.3s\n",
      "[CV 2/5] END learning_rate=0.05, max_depth=5, min_samples_leaf=2, min_samples_split=10, n_estimators=100, subsample=0.8;, score=0.953 total time=   0.3s\n",
      "[CV 3/5] END learning_rate=0.05, max_depth=5, min_samples_leaf=2, min_samples_split=10, n_estimators=100, subsample=0.8;, score=0.969 total time=   0.3s\n",
      "[CV 4/5] END learning_rate=0.05, max_depth=5, min_samples_leaf=2, min_samples_split=10, n_estimators=100, subsample=0.8;, score=0.953 total time=   0.3s\n",
      "[CV 5/5] END learning_rate=0.05, max_depth=5, min_samples_leaf=2, min_samples_split=10, n_estimators=100, subsample=0.8;, score=0.953 total time=   0.3s\n",
      "[CV 1/5] END learning_rate=0.05, max_depth=3, min_samples_leaf=4, min_samples_split=10, n_estimators=200, subsample=0.9;, score=0.938 total time=   0.5s\n",
      "[CV 2/5] END learning_rate=0.05, max_depth=3, min_samples_leaf=4, min_samples_split=10, n_estimators=200, subsample=0.9;, score=0.969 total time=   0.5s\n",
      "[CV 3/5] END learning_rate=0.05, max_depth=3, min_samples_leaf=4, min_samples_split=10, n_estimators=200, subsample=0.9;, score=0.953 total time=   0.5s\n",
      "[CV 4/5] END learning_rate=0.05, max_depth=3, min_samples_leaf=4, min_samples_split=10, n_estimators=200, subsample=0.9;, score=0.953 total time=   0.5s\n",
      "[CV 5/5] END learning_rate=0.05, max_depth=3, min_samples_leaf=4, min_samples_split=10, n_estimators=200, subsample=0.9;, score=0.953 total time=   0.5s\n",
      "[CV 1/5] END learning_rate=0.05, max_depth=3, min_samples_leaf=1, min_samples_split=5, n_estimators=100, subsample=1.0;, score=0.938 total time=   0.2s\n",
      "[CV 2/5] END learning_rate=0.05, max_depth=3, min_samples_leaf=1, min_samples_split=5, n_estimators=100, subsample=1.0;, score=0.953 total time=   0.2s\n",
      "[CV 3/5] END learning_rate=0.05, max_depth=3, min_samples_leaf=1, min_samples_split=5, n_estimators=100, subsample=1.0;, score=0.953 total time=   0.2s\n",
      "[CV 4/5] END learning_rate=0.05, max_depth=3, min_samples_leaf=1, min_samples_split=5, n_estimators=100, subsample=1.0;, score=0.953 total time=   0.2s\n",
      "[CV 5/5] END learning_rate=0.05, max_depth=3, min_samples_leaf=1, min_samples_split=5, n_estimators=100, subsample=1.0;, score=0.953 total time=   0.2s\n",
      "[CV 1/5] END learning_rate=0.2, max_depth=3, min_samples_leaf=2, min_samples_split=2, n_estimators=200, subsample=0.9;, score=0.938 total time=   0.5s\n",
      "[CV 2/5] END learning_rate=0.2, max_depth=3, min_samples_leaf=2, min_samples_split=2, n_estimators=200, subsample=0.9;, score=0.969 total time=   0.5s\n",
      "[CV 3/5] END learning_rate=0.2, max_depth=3, min_samples_leaf=2, min_samples_split=2, n_estimators=200, subsample=0.9;, score=0.953 total time=   0.5s\n",
      "[CV 4/5] END learning_rate=0.2, max_depth=3, min_samples_leaf=2, min_samples_split=2, n_estimators=200, subsample=0.9;, score=0.938 total time=   0.6s\n",
      "[CV 5/5] END learning_rate=0.2, max_depth=3, min_samples_leaf=2, min_samples_split=2, n_estimators=200, subsample=0.9;, score=0.953 total time=   0.6s\n",
      "[CV 1/5] END learning_rate=0.01, max_depth=4, min_samples_leaf=1, min_samples_split=2, n_estimators=50, subsample=0.9;, score=0.938 total time=   0.1s\n",
      "[CV 2/5] END learning_rate=0.01, max_depth=4, min_samples_leaf=1, min_samples_split=2, n_estimators=50, subsample=0.9;, score=0.953 total time=   0.1s\n",
      "[CV 3/5] END learning_rate=0.01, max_depth=4, min_samples_leaf=1, min_samples_split=2, n_estimators=50, subsample=0.9;, score=0.969 total time=   0.1s\n",
      "[CV 4/5] END learning_rate=0.01, max_depth=4, min_samples_leaf=1, min_samples_split=2, n_estimators=50, subsample=0.9;, score=0.953 total time=   0.1s\n",
      "[CV 5/5] END learning_rate=0.01, max_depth=4, min_samples_leaf=1, min_samples_split=2, n_estimators=50, subsample=0.9;, score=0.953 total time=   0.1s\n",
      "[CV 1/5] END learning_rate=0.2, max_depth=3, min_samples_leaf=2, min_samples_split=2, n_estimators=200, subsample=1.0;, score=0.938 total time=   0.5s\n",
      "[CV 2/5] END learning_rate=0.2, max_depth=3, min_samples_leaf=2, min_samples_split=2, n_estimators=200, subsample=1.0;, score=0.953 total time=   0.5s\n",
      "[CV 3/5] END learning_rate=0.2, max_depth=3, min_samples_leaf=2, min_samples_split=2, n_estimators=200, subsample=1.0;, score=0.969 total time=   0.5s\n",
      "[CV 4/5] END learning_rate=0.2, max_depth=3, min_samples_leaf=2, min_samples_split=2, n_estimators=200, subsample=1.0;, score=0.922 total time=   0.5s\n",
      "[CV 5/5] END learning_rate=0.2, max_depth=3, min_samples_leaf=2, min_samples_split=2, n_estimators=200, subsample=1.0;, score=0.953 total time=   0.5s\n",
      "[CV 1/5] END learning_rate=0.05, max_depth=3, min_samples_leaf=1, min_samples_split=5, n_estimators=50, subsample=1.0;, score=0.938 total time=   0.0s\n",
      "[CV 2/5] END learning_rate=0.05, max_depth=3, min_samples_leaf=1, min_samples_split=5, n_estimators=50, subsample=1.0;, score=0.938 total time=   0.0s\n",
      "[CV 3/5] END learning_rate=0.05, max_depth=3, min_samples_leaf=1, min_samples_split=5, n_estimators=50, subsample=1.0;, score=0.953 total time=   0.1s\n",
      "[CV 4/5] END learning_rate=0.05, max_depth=3, min_samples_leaf=1, min_samples_split=5, n_estimators=50, subsample=1.0;, score=0.969 total time=   0.1s\n",
      "[CV 5/5] END learning_rate=0.05, max_depth=3, min_samples_leaf=1, min_samples_split=5, n_estimators=50, subsample=1.0;, score=0.953 total time=   0.0s\n",
      "[CV 1/5] END learning_rate=0.1, max_depth=5, min_samples_leaf=1, min_samples_split=10, n_estimators=50, subsample=0.8;, score=0.938 total time=   0.1s\n",
      "[CV 2/5] END learning_rate=0.1, max_depth=5, min_samples_leaf=1, min_samples_split=10, n_estimators=50, subsample=0.8;, score=0.953 total time=   0.1s\n",
      "[CV 3/5] END learning_rate=0.1, max_depth=5, min_samples_leaf=1, min_samples_split=10, n_estimators=50, subsample=0.8;, score=0.984 total time=   0.1s\n",
      "[CV 4/5] END learning_rate=0.1, max_depth=5, min_samples_leaf=1, min_samples_split=10, n_estimators=50, subsample=0.8;, score=0.984 total time=   0.1s\n",
      "[CV 5/5] END learning_rate=0.1, max_depth=5, min_samples_leaf=1, min_samples_split=10, n_estimators=50, subsample=0.8;, score=0.953 total time=   0.1s\n",
      "[CV 1/5] END learning_rate=0.01, max_depth=4, min_samples_leaf=2, min_samples_split=2, n_estimators=200, subsample=0.9;, score=0.938 total time=   0.7s\n",
      "[CV 2/5] END learning_rate=0.01, max_depth=4, min_samples_leaf=2, min_samples_split=2, n_estimators=200, subsample=0.9;, score=0.953 total time=   0.7s\n",
      "[CV 3/5] END learning_rate=0.01, max_depth=4, min_samples_leaf=2, min_samples_split=2, n_estimators=200, subsample=0.9;, score=0.969 total time=   0.7s\n",
      "[CV 4/5] END learning_rate=0.01, max_depth=4, min_samples_leaf=2, min_samples_split=2, n_estimators=200, subsample=0.9;, score=0.953 total time=   0.7s\n",
      "[CV 5/5] END learning_rate=0.01, max_depth=4, min_samples_leaf=2, min_samples_split=2, n_estimators=200, subsample=0.9;, score=0.953 total time=   0.7s\n",
      "Accuracy: 0.95\n",
      "              precision    recall  f1-score   support\n",
      "\n",
      "           0       0.98      0.94      0.96        47\n",
      "           1       0.91      0.97      0.94        33\n",
      "\n",
      "    accuracy                           0.95        80\n",
      "   macro avg       0.95      0.95      0.95        80\n",
      "weighted avg       0.95      0.95      0.95        80\n",
      "\n",
      "[[44  3]\n",
      " [ 1 32]]\n"
     ]
    }
   ],
   "source": [
    "from sklearn.ensemble import GradientBoostingClassifier\n",
    "from sklearn.model_selection import RandomizedSearchCV\n",
    "\n",
    "params = {\n",
    "    'n_estimators': [50,100,200],\n",
    "    'learning_rate': [0.01, 0.1, 0.05,0.2],\n",
    "    'max_depth': [3,4,5],\n",
    "    'subsample': [0.8, 0.9, 1.0],\n",
    "    'min_samples_split': [2,5,10],\n",
    "    'min_samples_leaf': [1,2,4]\n",
    "}\n",
    "\n",
    "gb_classifier = GradientBoostingClassifier()\n",
    "gbc = RandomizedSearchCV(gb_classifier, param_distributions=params, cv = 5, verbose = 3, scoring='accuracy')\n",
    "gbc.fit(X_train,y_train)\n",
    "best_gbc = gbc.best_estimator_\n",
    "y_pred_gbc = best_gbc.predict(X_test)\n",
    "\n",
    "gbc_acc = accuracy_score(y_test, y_pred_gbc)\n",
    "\n",
    "print(f\"Accuracy: {gbc_acc}\")\n",
    "print(classification_report(y_test, y_pred_gbc))\n",
    "print(confusion_matrix(y_test, y_pred_gbc))"
   ]
  },
  {
   "cell_type": "markdown",
   "metadata": {},
   "source": [
    "## XGBoost Classifier"
   ]
  },
  {
   "cell_type": "code",
   "execution_count": 18,
   "metadata": {},
   "outputs": [
    {
     "name": "stdout",
     "output_type": "stream",
     "text": [
      "Fitting 5 folds for each of 10 candidates, totalling 50 fits\n"
     ]
    },
    {
     "name": "stdout",
     "output_type": "stream",
     "text": [
      "Accuracy: 0.975\n",
      "              precision    recall  f1-score   support\n",
      "\n",
      "           0       1.00      0.96      0.98        47\n",
      "           1       0.94      1.00      0.97        33\n",
      "\n",
      "    accuracy                           0.97        80\n",
      "   macro avg       0.97      0.98      0.97        80\n",
      "weighted avg       0.98      0.97      0.98        80\n",
      "\n",
      "[[45  2]\n",
      " [ 0 33]]\n"
     ]
    }
   ],
   "source": [
    "from xgboost import XGBClassifier\n",
    "from sklearn.model_selection import RandomizedSearchCV\n",
    "\n",
    "params = {\n",
    "    'n_estimators': [100,200,300],\n",
    "    'learning_rate': [0.01,0.05,0.5,0.2],\n",
    "    'max_depth': [3,5,7,9],\n",
    "    'gamma': [0,0.1,0.5,1],\n",
    "    'reg_alpha': [0,0.1,0.5,1],\n",
    "    'reg_lambda': [1,1.5,2,3]\n",
    "}\n",
    "\n",
    "xgb_clf = XGBClassifier()\n",
    "xgb = RandomizedSearchCV(estimator=xgb_clf, param_distributions=params, cv=5, verbose=3, scoring='accuracy', n_jobs=-1)\n",
    "xgb.fit(X_train, y_train)\n",
    "\n",
    "best_xgb = xgb.best_estimator_\n",
    "y_pred_xgb = best_xgb.predict(X_test)\n",
    "\n",
    "xgb_acc = accuracy_score(y_test, y_pred_xgb)\n",
    "\n",
    "print(f\"Accuracy: {xgb_acc}\")\n",
    "print(classification_report(y_test, y_pred_xgb))\n",
    "print(confusion_matrix(y_test, y_pred_xgb))"
   ]
  },
  {
   "cell_type": "markdown",
   "metadata": {},
   "source": [
    "# Model Evaluation"
   ]
  },
  {
   "cell_type": "code",
   "execution_count": 19,
   "metadata": {},
   "outputs": [
    {
     "data": {
      "text/html": [
       "<div>\n",
       "<style scoped>\n",
       "    .dataframe tbody tr th:only-of-type {\n",
       "        vertical-align: middle;\n",
       "    }\n",
       "\n",
       "    .dataframe tbody tr th {\n",
       "        vertical-align: top;\n",
       "    }\n",
       "\n",
       "    .dataframe thead th {\n",
       "        text-align: right;\n",
       "    }\n",
       "</style>\n",
       "<table border=\"1\" class=\"dataframe\">\n",
       "  <thead>\n",
       "    <tr style=\"text-align: right;\">\n",
       "      <th></th>\n",
       "      <th>Model</th>\n",
       "      <th>Score</th>\n",
       "    </tr>\n",
       "  </thead>\n",
       "  <tbody>\n",
       "    <tr>\n",
       "      <th>2</th>\n",
       "      <td>SVM Classifier</td>\n",
       "      <td>0.9750</td>\n",
       "    </tr>\n",
       "    <tr>\n",
       "      <th>7</th>\n",
       "      <td>XGBoost Classifier</td>\n",
       "      <td>0.9750</td>\n",
       "    </tr>\n",
       "    <tr>\n",
       "      <th>5</th>\n",
       "      <td>Ada Boost Classifier</td>\n",
       "      <td>0.9750</td>\n",
       "    </tr>\n",
       "    <tr>\n",
       "      <th>4</th>\n",
       "      <td>Random Forest Classifier</td>\n",
       "      <td>0.9750</td>\n",
       "    </tr>\n",
       "    <tr>\n",
       "      <th>0</th>\n",
       "      <td>Logistic Regression</td>\n",
       "      <td>0.9625</td>\n",
       "    </tr>\n",
       "    <tr>\n",
       "      <th>3</th>\n",
       "      <td>Naive Bayes</td>\n",
       "      <td>0.9500</td>\n",
       "    </tr>\n",
       "    <tr>\n",
       "      <th>6</th>\n",
       "      <td>Gradient Boosting Classifier</td>\n",
       "      <td>0.9500</td>\n",
       "    </tr>\n",
       "    <tr>\n",
       "      <th>1</th>\n",
       "      <td>Decision Tree Classifier</td>\n",
       "      <td>0.9375</td>\n",
       "    </tr>\n",
       "  </tbody>\n",
       "</table>\n",
       "</div>"
      ],
      "text/plain": [
       "                          Model   Score\n",
       "2                SVM Classifier  0.9750\n",
       "7            XGBoost Classifier  0.9750\n",
       "5          Ada Boost Classifier  0.9750\n",
       "4      Random Forest Classifier  0.9750\n",
       "0           Logistic Regression  0.9625\n",
       "3                   Naive Bayes  0.9500\n",
       "6  Gradient Boosting Classifier  0.9500\n",
       "1      Decision Tree Classifier  0.9375"
      ]
     },
     "execution_count": 19,
     "metadata": {},
     "output_type": "execute_result"
    }
   ],
   "source": [
    "models = pd.DataFrame({\n",
    "    'Model' : [ 'Logistic Regression', 'Decision Tree Classifier', 'SVM Classifier', 'Naive Bayes', 'Random Forest Classifier','Ada Boost Classifier',\n",
    "             'Gradient Boosting Classifier', 'XGBoost Classifier'],\n",
    "    'Score' : [log_clf_acc, DT_clf_acc, svm_classifier_acc, gnb_acc, rfc_acc, adaboost_acc, gbc_acc, xgb_acc]\n",
    "})\n",
    "\n",
    "\n",
    "\n",
    "\n",
    "# Sort the models DataFrame by 'Score' in descending order\n",
    "models = models.sort_values('Score', ascending=False)\n",
    "\n",
    "models"
   ]
  },
  {
   "cell_type": "code",
   "execution_count": 20,
   "metadata": {},
   "outputs": [
    {
     "data": {
      "image/png": "[encoded data removed]",
      "text/plain": [
       "<Figure size 800x600 with 1 Axes>"
      ]
     },
     "metadata": {},
     "output_type": "display_data"
    }
   ],
   "source": [
    "import seaborn as sns\n",
    "import matplotlib.pyplot as plt\n",
    "\n",
    "# Create the barplot \n",
    "plt.figure(figsize=(8,6))\n",
    "ax = sns.barplot(x='Score', y='Model', data= models, palette='viridis')\n",
    "\n",
    "# Add value labels on top of the bars\n",
    "for p in ax.patches:\n",
    "    # Get the position of each bar\n",
    "    width = p.get_width()\n",
    "    # Position the text in the middle of each bar\n",
    "    ax.text(width , p.get_y() + p.get_height() / 2, \n",
    "            f'{width:.2f}', ha='left', va='center', fontsize=10)\n",
    "    \n",
    "plt.title(\"Model Accuracy Scores\")\n",
    "plt.show()"
   ]
  },
  {
   "cell_type": "markdown",
   "metadata": {},
   "source": [
    "## SVM, XGBoost Classifier, Ada Boost Classifier, and Random Forest Classifier are getting Highest Accuracy score"
   ]
  }
 ],
 "metadata": {
  "kernelspec": {
   "display_name": "venv",
   "language": "python",
   "name": "python3"
  },
  "language_info": {
   "codemirror_mode": {
    "name": "ipython",
    "version": 3
   },
   "file_extension": ".py",
   "mimetype": "text/x-python",
   "name": "python",
   "nbconvert_exporter": "python",
   "pygments_lexer": "ipython3",
   "version": "3.12.0"
  }
 },
 "nbformat": 4,
 "nbformat_minor": 2
}
